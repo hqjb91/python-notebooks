{
  "cells": [
    {
      "cell_type": "markdown",
      "metadata": {
        "id": "view-in-github",
        "colab_type": "text"
      },
      "source": [
        "<a href=\"https://colab.research.google.com/github/hqjb91/python-notebooks/blob/main/Fruit_Classification.ipynb\" target=\"_parent\"><img src=\"https://colab.research.google.com/assets/colab-badge.svg\" alt=\"Open In Colab\"/></a>"
      ]
    },
    {
      "cell_type": "code",
      "execution_count": null,
      "metadata": {
        "id": "zzArG5afwmy7"
      },
      "outputs": [],
      "source": [
        "import kagglehub\n",
        "kagglehub.login()"
      ]
    },
    {
      "cell_type": "code",
      "execution_count": null,
      "metadata": {
        "id": "yw-xk6dAyAZO"
      },
      "outputs": [],
      "source": [
        "kagglehub.dataset_download('icebearogo/fruit-classification-dataset')"
      ]
    },
    {
      "cell_type": "code",
      "source": [
        "from torchvision import datasets, transforms\n",
        "from torch.utils.data import DataLoader\n",
        "\n",
        "transform = transforms.Compose([\n",
        "    transforms.Resize((224,224)),\n",
        "    transforms.ToTensor(),\n",
        "    transforms.Normalize(\n",
        "        mean=[0.485, 0.456, 0.406],  # ImageNet normalization\n",
        "        std=[0.229, 0.224, 0.225]\n",
        "    )\n",
        "])\n",
        "\n",
        "training_dataset = datasets.ImageFolder(root='/kaggle/input/fruit-classification-dataset/Fruit_dataset/train1', transform = transform)\n",
        "\n",
        "training_loader = DataLoader(\n",
        "    training_dataset,\n",
        "    batch_size=64,\n",
        "    shuffle=True,\n",
        "    num_workers=4,\n",
        "    pin_memory=True,\n",
        "    prefetch_factor=2,\n",
        ")\n",
        "\n",
        "for images, label in training_loader:\n",
        "  print(f'Images Shape: {images.shape}')\n",
        "  print(f'Label Shape: {label.shape}')\n",
        "  break # Just load first batch for testing"
      ],
      "metadata": {
        "id": "U_Ef-7u4KgjV"
      },
      "execution_count": null,
      "outputs": []
    },
    {
      "cell_type": "code",
      "source": [
        "transform = transforms.Compose([\n",
        "    transforms.Resize((224,224)),\n",
        "    transforms.ToTensor(),\n",
        "    transforms.Normalize(\n",
        "        mean=[0.485, 0.456, 0.406],\n",
        "        std=[0.229, 0.224, 0.225]\n",
        "    )\n",
        "])\n",
        "\n",
        "validation_dataset = datasets.ImageFolder(root='/kaggle/input/fruit-classification-dataset/Fruit_dataset/val1', transform = transform)\n",
        "\n",
        "validation_loader = DataLoader(\n",
        "    validation_dataset,\n",
        "    batch_size=64,\n",
        "    shuffle=True,\n",
        "    num_workers=4,\n",
        "    pin_memory=True,\n",
        "    prefetch_factor=2,\n",
        ")"
      ],
      "metadata": {
        "id": "PNADybhDQwL5"
      },
      "execution_count": null,
      "outputs": []
    },
    {
      "cell_type": "code",
      "source": [
        "import torch.nn as nn\n",
        "import torch.optim as optim\n",
        "import torch\n",
        "\n",
        "def train_model(model, train_loader, val_loader, num_epochs=2):\n",
        "    criterion = nn.CrossEntropyLoss()\n",
        "    optimizer = optim.AdamW(model.parameters(), lr=1e-3)\n",
        "    device = torch.device('cuda' if torch.cuda.is_available() else 'cpu')\n",
        "    print(f'Device is: {device}')\n",
        "    model = model.to(device)\n",
        "\n",
        "    for epoch in range(num_epochs):\n",
        "        model.train()\n",
        "        running_loss = 0.0\n",
        "\n",
        "        for images, labels in train_loader:\n",
        "            images, labels = images.to(device), labels.to(device)\n",
        "\n",
        "            optimizer.zero_grad()\n",
        "            outputs = model(images)\n",
        "            loss = criterion(outputs, labels)\n",
        "            loss.backward()\n",
        "            optimizer.step()\n",
        "\n",
        "            running_loss += loss.item()\n",
        "\n",
        "        model.eval()\n",
        "        val_loss = 0.0\n",
        "        correct = 0\n",
        "        total = 0\n",
        "\n",
        "        with torch.no_grad():\n",
        "            for images, labels in val_loader:\n",
        "                images, labels = images.to(device), labels.to(device)\n",
        "                outputs = model(images)\n",
        "                loss = criterion(outputs, labels)\n",
        "                val_loss += loss.item()\n",
        "\n",
        "                _, predicted = outputs.max(1)\n",
        "                total += labels.size(0)\n",
        "                correct += predicted.eq(labels).sum().item()\n",
        "\n",
        "        print(f'Epoch {epoch+1}/{num_epochs}:')\n",
        "        print(f'Training Loss: {running_loss/len(train_loader):.3f}')\n",
        "        print(f'Validation Loss: {val_loss/len(val_loader):.3f}')\n",
        "        print(f'Validation Accuracy: {100.*correct/total:.2f}%\\n')\n",
        "\n",
        "from torchvision.models import resnet18\n",
        "\n",
        "model = resnet18(pretrained=False)\n",
        "model.fc = nn.Linear(model.fc.in_features, len(training_dataset.classes)) # Add one last layer to output as one of the folder names i.e. classes\n",
        "\n",
        "train_model(model, training_loader, validation_loader)"
      ],
      "metadata": {
        "id": "K34ws9EKQu7i"
      },
      "execution_count": null,
      "outputs": []
    },
    {
      "cell_type": "code",
      "source": [
        "import requests\n",
        "from PIL import Image\n",
        "from io import BytesIO\n",
        "import matplotlib.pyplot as plt\n",
        "\n",
        "def load_and_preprocess_image(url=None):\n",
        "  transform = transforms.Compose([\n",
        "      transforms.Resize((224, 224)),\n",
        "      transforms.ToTensor(),\n",
        "      transforms.Normalize(\n",
        "        mean=[0.485, 0.456, 0.406],\n",
        "        std=[0.229, 0.224, 0.225]\n",
        "      )\n",
        "  ])\n",
        "  response = requests.get(url)\n",
        "  image = Image.open(BytesIO(response.content))\n",
        "\n",
        "  plt.figure(figsize=(12, 4))\n",
        "  plt.subplot(131)\n",
        "  plt.imshow(image)\n",
        "  plt.title('Original Image')\n",
        "\n",
        "  plt.show()\n",
        "\n",
        "  final = transform(image).unsqueeze(0) # Add batch dimension\n",
        "\n",
        "  return final\n",
        "\n",
        "#image_tensor = load_and_preprocess_image('https://as2.ftcdn.net/v2/jpg/00/29/22/15/1000_F_29221584_KvRun7dukDQqTqymgknHgLyqK6VrBsyL.jpg') # Papaya\n",
        "#image_tensor = load_and_preprocess_image('https://img.freepik.com/premium-photo/durian-fruit-with-cut-half-leaves-isolated-white-surface_252965-916.jpg') # Durian\n",
        "image_tensor = load_and_preprocess_image(url='https://i5.walmartimages.com/asr/cd8bf985-0245-44dc-ae33-ad46a5488f4f_1.54b6a87ac7f8f79d4de326ef7d451d4f.jpeg') # Not a fruit\n",
        "\n",
        "def predict_fruit(model, image_tensor):\n",
        "    model.eval()\n",
        "\n",
        "    device = next(model.parameters()).device\n",
        "    image_tensor = image_tensor.to(device)\n",
        "\n",
        "    with torch.no_grad():  # Disable gradient calculation during inference\n",
        "        outputs = model(image_tensor)\n",
        "        _, predicted = torch.max(outputs, 1)\n",
        "\n",
        "    return predicted.item()\n",
        "\n",
        "prediction = predict_fruit(model, image_tensor)\n",
        "print(f'Predicted: {training_dataset.classes[prediction]}')"
      ],
      "metadata": {
        "id": "yMV_6QXCezDN"
      },
      "execution_count": null,
      "outputs": []
    }
  ],
  "metadata": {
    "colab": {
      "provenance": [],
      "gpuType": "T4",
      "authorship_tag": "ABX9TyP68mB8kRJ9mqe3PXcJ4LYJ",
      "include_colab_link": true
    },
    "kernelspec": {
      "display_name": "Python 3",
      "name": "python3"
    },
    "language_info": {
      "name": "python"
    },
    "accelerator": "GPU"
  },
  "nbformat": 4,
  "nbformat_minor": 0
}